{
 "cells": [
  {
   "attachments": {},
   "cell_type": "markdown",
   "metadata": {},
   "source": [
    "## ReadMe - Machine Learning and Teleconnections\n",
    "\n",
    "### Teleconnections are often used in the meteorological community as proxies for atmospheric conditions over different locations/regions. When making a forecast for a specific location, it is often difficult to determine how much of an impact a teleconnection has over a specific location. This project attempts to use a multivariate linear regression model for 5 major teleconnection patterns (ENSO, PNA, PDO, NAO, AO) to increase predictability of various atmospheric parameters including temperature, precipitation, MSLP, and wind over 21 specific point locations. ###\n",
    "\n",
    "### Data Sources ###\n",
    "\n",
    "#### ESRL PSL monthly teleconnection data is extracted via a url for the ENSO, PDO, AO, NAO, and PNA. This data will be used as part of a multivariate linear regression and random forest regression analyses to determine predictability of atmospheric variables using these indices over specified locations. The data is first downloaded using the provided url and then saved as a Pandas data frame. The data is then vertically orientated and stacked so the data of the monthly indice becomes the index. This is completed for each of the 5 teleconnection indices. Data is then merged using an outer join technique using the “Date” index to join the different indices together. Missing values are then converted to 'NaN' values. All row values for each column are dropped if a NaN is detected in that row using the 'dropna' function. ####\n",
    "\n",
    "#### A full climotology is calculated using the Meteostat Python Package. Nearest station approximator is used to find observational stations closest to specified lat/lon location. A station is located that is closest, but also goes as far back as possible, preferably back to 1950. This data is aggregated on a monthly basis to align with the monthly indices provided in the teleconnection dataset ####\n",
    "\n",
    "### Data Analysis Techniques ###\n",
    "\n",
    "#### *1)Multivariate Linear Regression* ####\n",
    "\n",
    "#### Multivariate linear regression is used as a way to incorporate all teleconnection features as a predictor of an atmospheric parameter (i.e. surface temperature) ####\n",
    "\n",
    "#### *2)Random Forest Regression* ####\n",
    "\n",
    "#### Random forest regession was also used. This was in an attempt to provide hyper-parameters to the model in an effort to maximize the ability of the model to make predictions. Additionally, a feature importance and permution importance analyses were conducted to specifically examine the importance of each indice as a predictor of the specificied atmospheric variable ####\n",
    "\n"
   ]
  }
 ],
 "metadata": {
  "language_info": {
   "name": "python"
  },
  "orig_nbformat": 4
 },
 "nbformat": 4,
 "nbformat_minor": 2
}
